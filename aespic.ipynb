{
 "cells": [
  {
   "cell_type": "code",
   "execution_count": 1,
   "id": "2d1b18e7-426f-4f91-840f-a424a6b56dcf",
   "metadata": {},
   "outputs": [
    {
     "name": "stdout",
     "output_type": "stream",
     "text": [
      "Requirement already satisfied: pycryptodome in c:\\users\\t_bertoncelj\\appdata\\local\\programs\\python\\python310\\lib\\site-packages (3.20.0)\n",
      "Requirement already satisfied: pillow in c:\\users\\t_bertoncelj\\appdata\\local\\programs\\python\\python310\\lib\\site-packages (10.0.0)\n"
     ]
    }
   ],
   "source": [
    "# Cell 1: Install necessary libraries\n",
    "!pip install pycryptodome pillow"
   ]
  },
  {
   "cell_type": "code",
   "execution_count": 1,
   "id": "94f7c535-2d50-4d9a-95fb-aedcb26ae9ad",
   "metadata": {},
   "outputs": [],
   "source": [
    "\n",
    "\n",
    "# Cell 2: Import libraries and load image\n",
    "from Crypto.Cipher import AES\n",
    "from Crypto.Random import get_random_bytes\n",
    "from PIL import Image\n",
    "import numpy as np\n",
    "import io\n",
    "\n",
    "# Load the image\n",
    "image_path = 'frog.jpg'  # Update this with the path to your image\n",
    "image = Image.open(image_path)\n",
    "image.show()\n",
    "\n"
   ]
  },
  {
   "cell_type": "code",
   "execution_count": 2,
   "id": "40d5351a-5387-4f1b-9d58-b3d308708efc",
   "metadata": {},
   "outputs": [],
   "source": [
    "# Convert image to bytes\n",
    "image_bytes = image.tobytes()\n",
    "\n",
    "# Generate a random 16-byte key and IV\n",
    "key = get_random_bytes(16)\n",
    "iv = get_random_bytes(16)\n",
    "\n",
    "# Padding to make the length of image_bytes a multiple of 16 bytes\n",
    "padding_length = 16 - len(image_bytes) % 16\n",
    "padded_image_bytes = image_bytes + bytes([padding_length] * padding_length)\n",
    "\n",
    "# Create an AES cipher object with the key and IV in CBC mode\n",
    "cipher = AES.new(key, AES.MODE_CBC, iv)\n",
    "\n",
    "# Encrypt the image bytes\n",
    "encrypted_bytes = cipher.encrypt(padded_image_bytes)\n",
    "\n",
    "# Convert encrypted bytes back to an image-like format for display\n",
    "encrypted_image_array = np.frombuffer(encrypted_bytes, dtype=np.uint8)\n",
    "encrypted_image = Image.frombytes('RGB', image.size, encrypted_image_array[:len(image_bytes)])\n",
    "encrypted_image.show()\n",
    "\n",
    "\n"
   ]
  },
  {
   "cell_type": "code",
   "execution_count": 3,
   "id": "b4a60512-3115-4542-a780-8fe371a7f17f",
   "metadata": {},
   "outputs": [],
   "source": [
    "# Cell 3: Decrypt the image\n",
    "# Create a new AES cipher object for decryption\n",
    "decipher = AES.new(key, AES.MODE_CBC, iv)\n",
    "\n",
    "# Decrypt the bytes\n",
    "decrypted_padded_bytes = decipher.decrypt(encrypted_bytes)\n",
    "\n",
    "# Remove padding\n",
    "decrypted_bytes = decrypted_padded_bytes[:-padding_length]\n",
    "\n",
    "# Convert decrypted bytes back to an image\n",
    "decrypted_image = Image.frombytes('RGB', image.size, decrypted_bytes)\n",
    "decrypted_image.show()"
   ]
  },
  {
   "cell_type": "code",
   "execution_count": null,
   "id": "6d5cf982-1491-4be2-93c3-cdddbd42eabf",
   "metadata": {},
   "outputs": [],
   "source": []
  }
 ],
 "metadata": {
  "kernelspec": {
   "display_name": "Python 3 (ipykernel)",
   "language": "python",
   "name": "python3"
  },
  "language_info": {
   "codemirror_mode": {
    "name": "ipython",
    "version": 3
   },
   "file_extension": ".py",
   "mimetype": "text/x-python",
   "name": "python",
   "nbconvert_exporter": "python",
   "pygments_lexer": "ipython3",
   "version": "3.10.11"
  }
 },
 "nbformat": 4,
 "nbformat_minor": 5
}
