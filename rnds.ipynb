{
 "cells": [
  {
   "cell_type": "code",
   "execution_count": null,
   "id": "cdd34b6d-429e-4cca-9b8a-8eb78b909262",
   "metadata": {},
   "outputs": [],
   "source": []
  }
 ],
 "metadata": {
  "kernelspec": {
   "display_name": "",
   "name": ""
  },
  "language_info": {
   "name": ""
  }
 },
 "nbformat": 4,
 "nbformat_minor": 5
}
