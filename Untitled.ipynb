{
 "cells": [
  {
   "cell_type": "code",
   "execution_count": 48,
   "id": "4333f24f-56cc-4bd2-9ae4-71ef39fe9317",
   "metadata": {},
   "outputs": [
    {
     "name": "stdout",
     "output_type": "stream",
     "text": [
      "Requirement already satisfied: pyDHE in c:\\users\\t_bertoncelj\\appdata\\local\\programs\\python\\python310\\lib\\site-packages (1.0.0)\n",
      "Requirement already satisfied: Crypto in c:\\users\\t_bertoncelj\\appdata\\local\\programs\\python\\python310\\lib\\site-packages (from pyDHE) (1.4.1)\n",
      "Requirement already satisfied: Naked in c:\\users\\t_bertoncelj\\appdata\\local\\programs\\python\\python310\\lib\\site-packages (from Crypto->pyDHE) (0.1.32)\n",
      "Requirement already satisfied: shellescape in c:\\users\\t_bertoncelj\\appdata\\local\\programs\\python\\python310\\lib\\site-packages (from Crypto->pyDHE) (3.8.1)\n",
      "Requirement already satisfied: requests in c:\\users\\t_bertoncelj\\appdata\\local\\programs\\python\\python310\\lib\\site-packages (from Naked->Crypto->pyDHE) (2.31.0)\n",
      "Requirement already satisfied: pyyaml in c:\\users\\t_bertoncelj\\appdata\\local\\programs\\python\\python310\\lib\\site-packages (from Naked->Crypto->pyDHE) (6.0.1)\n",
      "Requirement already satisfied: charset-normalizer<4,>=2 in c:\\users\\t_bertoncelj\\appdata\\local\\programs\\python\\python310\\lib\\site-packages (from requests->Naked->Crypto->pyDHE) (3.3.2)\n",
      "Requirement already satisfied: idna<4,>=2.5 in c:\\users\\t_bertoncelj\\appdata\\local\\programs\\python\\python310\\lib\\site-packages (from requests->Naked->Crypto->pyDHE) (3.7)\n",
      "Requirement already satisfied: urllib3<3,>=1.21.1 in c:\\users\\t_bertoncelj\\appdata\\local\\programs\\python\\python310\\lib\\site-packages (from requests->Naked->Crypto->pyDHE) (2.2.1)\n",
      "Requirement already satisfied: certifi>=2017.4.17 in c:\\users\\t_bertoncelj\\appdata\\local\\programs\\python\\python310\\lib\\site-packages (from requests->Naked->Crypto->pyDHE) (2024.2.2)\n"
     ]
    }
   ],
   "source": [
    "!pip install pyDHE\n",
    "import pyDHE"
   ]
  },
  {
   "cell_type": "code",
   "execution_count": 53,
   "id": "663b2556-46d0-40ce-8a83-d1069c488db9",
   "metadata": {},
   "outputs": [],
   "source": [
    "# Generate Alice Public key"
   ]
  },
  {
   "cell_type": "code",
   "execution_count": 60,
   "id": "b45d74a2-00c0-40b5-bfd1-08e8bd84a544",
   "metadata": {},
   "outputs": [
    {
     "name": "stdout",
     "output_type": "stream",
     "text": [
      "Alice public key: \n",
      " 3473965287428894152896186540968084343062553090941500809861099309682716270771313098376560972369562654191723036050035816781219044532669665232471557895015399070450260553123057652564250287456575397522147706197666233905703407350744660542308452360298630371029973076401406426747071062048397035880680217647671625256453609685062931302023653786353600666776551002760904913347609670967828560632862279250397195868531522898407352386180696342296095522917419065471409768611401449565958923633312535352883862742916848855014019079536824400497797173876688364523809583869362728367226010124564997135748621204752887722575511755080182807475 <pyDHE.DHE object at 0x000001EF8DD98C70>\n"
     ]
    }
   ],
   "source": [
    "# 14: 2048 bits\n",
    "# 15: 3072 bits\n",
    "# 16: 4096 bits\n",
    "# 17: 6144 bits\n",
    "# 18: 8192 bits\n",
    "alice = pyDHE.new(group=14)\n",
    "alicePubKey = alice.getPublicKey()\n",
    "print(\"Alice public key: \\n\", alicePubKey, alice)"
   ]
  },
  {
   "cell_type": "code",
   "execution_count": 55,
   "id": "28187c16-e585-4401-a53e-bd6e9f8ef426",
   "metadata": {},
   "outputs": [
    {
     "name": "stdout",
     "output_type": "stream",
     "text": [
      "Bob public key: 0x72098909738d4cc910837f9786a516756e393854c4b5e9b4650bea8d944139730823f488036fad0942227f00e9e31cd4db6e327882569096ad3befcabbf58ad0f9a9e9513f9cc76d2098f33d06718e51542c9392aab79c3e47fd21100f793226601b56f11b76747989619925e9eb6320a5507ccbcf5d7f54b90463a9abe160948519a116565114a358edd504843f918548451efcee2bae15de24e8587bf211a00837d5c2ed78e6262b7a35f0ff02b471b14ddac61e1b39c0c828896760b23bc8e9113ddeb9b185fdd935fc1179a5990b866ea771d650f10a4115d1e77a1e058aa45ff9ba9e8b134e2d4366481de4f4066193e6d367b67cb6ad6c80a79518873f\n"
     ]
    }
   ],
   "source": [
    "bob = pyDHE.new(group=14)\n",
    "bobPubKey = bob.getPublicKey()\n",
    "print(\"Bob public key:\", hex(bobPubKey))"
   ]
  },
  {
   "cell_type": "code",
   "execution_count": 56,
   "id": "e495be19-c624-4460-9472-d07370ae5256",
   "metadata": {},
   "outputs": [
    {
     "name": "stdout",
     "output_type": "stream",
     "text": [
      "Now exchange the public keys (e.g. through Internet)\n",
      "Alice shared key: 0x5f39bdbb8fcaa60f90992a19177afd7eed82532acf24af2f4d1fd18adb9072554c3cd32e02b827fcbae6157ad5892e9369f37349ae7635836e27d16d42a5999a64c73e5191b86d5b0ad2532345a6d16f972a6806ed8b9ebb74b0a9da8dece7e43a9700f875460342a9cfd332d2a3cd005b413670a8c0beb58daaef098859270a7ecb0ac2beaa0052f7b3c293dc6b9ebdd2e5f5f58c4b1cb4dd678cea30516cd742caff244fdfbef174cd86c3ef6a7eec74da7868340728537348c915bf2b96eef7a2c423a14de6c754e6a562367e8a25f112c19dfcbefa296db41d88fd000a16cb1c625a0694ce523e08a94b8b21791cb438f5b0a163419fbbe9f4287f6e2b3b\n"
     ]
    }
   ],
   "source": [
    "print(\"Now exchange the public keys (e.g. through Internet)\")\n",
    "\n",
    "aliceSharedKey = alice.update(bobPubKey)\n",
    "print(\"Alice shared key:\", hex(aliceSharedKey))"
   ]
  },
  {
   "cell_type": "code",
   "execution_count": 57,
   "id": "4595f8ff-3de2-4c28-81d9-a081e1c60021",
   "metadata": {},
   "outputs": [
    {
     "name": "stdout",
     "output_type": "stream",
     "text": [
      "Bob shared key: 0x5f39bdbb8fcaa60f90992a19177afd7eed82532acf24af2f4d1fd18adb9072554c3cd32e02b827fcbae6157ad5892e9369f37349ae7635836e27d16d42a5999a64c73e5191b86d5b0ad2532345a6d16f972a6806ed8b9ebb74b0a9da8dece7e43a9700f875460342a9cfd332d2a3cd005b413670a8c0beb58daaef098859270a7ecb0ac2beaa0052f7b3c293dc6b9ebdd2e5f5f58c4b1cb4dd678cea30516cd742caff244fdfbef174cd86c3ef6a7eec74da7868340728537348c915bf2b96eef7a2c423a14de6c754e6a562367e8a25f112c19dfcbefa296db41d88fd000a16cb1c625a0694ce523e08a94b8b21791cb438f5b0a163419fbbe9f4287f6e2b3b\n",
      "Equal shared keys: True\n"
     ]
    }
   ],
   "source": [
    "bobSharedKey = bob.update(alicePubKey)\n",
    "print(\"Bob shared key:\", hex(bobSharedKey))\n",
    "\n",
    "print(\"Equal shared keys:\", aliceSharedKey == bobSharedKey)"
   ]
  },
  {
   "cell_type": "code",
   "execution_count": null,
   "id": "207a1dfe-02d9-4c86-a4cb-a949719733af",
   "metadata": {},
   "outputs": [],
   "source": []
  }
 ],
 "metadata": {
  "kernelspec": {
   "display_name": "Python 3 (ipykernel)",
   "language": "python",
   "name": "python3"
  },
  "language_info": {
   "codemirror_mode": {
    "name": "ipython",
    "version": 3
   },
   "file_extension": ".py",
   "mimetype": "text/x-python",
   "name": "python",
   "nbconvert_exporter": "python",
   "pygments_lexer": "ipython3",
   "version": "3.10.11"
  }
 },
 "nbformat": 4,
 "nbformat_minor": 5
}
