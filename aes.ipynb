{
 "cells": [
  {
   "cell_type": "code",
   "execution_count": 1,
   "id": "1a438471-0260-47a6-a7d7-216c1e3e7416",
   "metadata": {},
   "outputs": [
    {
     "name": "stdout",
     "output_type": "stream",
     "text": [
      "Requirement already satisfied: pycryptodome in c:\\users\\berto\\appdata\\local\\packages\\pythonsoftwarefoundation.python.3.11_qbz5n2kfra8p0\\localcache\\local-packages\\python311\\site-packages (3.20.0)\n"
     ]
    }
   ],
   "source": [
    "!pip install pycryptodome"
   ]
  },
  {
   "cell_type": "code",
   "execution_count": 2,
   "id": "98319597-8e19-4af8-bac0-a382f67f24e8",
   "metadata": {},
   "outputs": [],
   "source": [
    "from Crypto.Cipher import AES\n",
    "from Crypto.Random import get_random_bytes"
   ]
  },
  {
   "cell_type": "markdown",
   "id": "7a921047-8972-4c3d-af62-e45c9083ce5d",
   "metadata": {},
   "source": [
    "# AES\n",
    "\n",
    "The Advanced Encryption Standard (AES), also known by its original name Rijndael (Dutch pronunciation: [ˈrɛindaːl]),[5] is a specification for the encryption of electronic data established by the U.S. National Institute of Standards and Technology (NIST) in 2001\n",
    "\n",
    "![Alt text](picture/AES.png)\n",
    "\n",
    "Try it online: [click](https://anycript.com/crypto)\n",
    "\n",
    "\n",
    "Video displayed in details how encryption works [Click](https://www.youtube.com/watch?v=gP4PqVGudtg) or\n",
    "[Animation](https://formaestudio.com/rijndaelinspector/archivos/Rijndael_Animation_v4_eng-html5.html)."
   ]
  },
  {
   "cell_type": "code",
   "execution_count": 6,
   "id": "9598b4e0-ac31-476a-b51b-801681d7c0e6",
   "metadata": {},
   "outputs": [
    {
     "name": "stdout",
     "output_type": "stream",
     "text": [
      "Key b'L\\x01\\xde\\xb6\\xc1\\xc4\\xb5\\xb2\\x87\\xb9\\xb0\\xcf\\x8ax\\x12\\xca'\n",
      "Cipher b'\\xa6\\xea\\x10\\xd5z:\\xc1\\xd1\\xa7\\x81x'\n"
     ]
    }
   ],
   "source": [
    "data = b'secret data'\n",
    "\n",
    "key = get_random_bytes(16)\n",
    "cipher = AES.new(key, AES.MODE_EAX)\n",
    "ciphertext, tag = cipher.encrypt_and_digest(data)\n",
    "nonce = cipher.nonce\n",
    "print(\"Key\", key)\n",
    "print(\"Cipher\", ciphertext)"
   ]
  },
  {
   "cell_type": "code",
   "execution_count": 5,
   "id": "71cbc98b-b3c5-4473-8abe-4b7cb780d354",
   "metadata": {},
   "outputs": [
    {
     "name": "stdout",
     "output_type": "stream",
     "text": [
      "b'secret data'\n"
     ]
    }
   ],
   "source": [
    "cipher = AES.new(key, AES.MODE_EAX, nonce)\n",
    "data = cipher.decrypt_and_verify(ciphertext, tag)\n",
    "print(data)"
   ]
  },
  {
   "cell_type": "code",
   "execution_count": null,
   "id": "5d821ae2-49a4-4e04-9fa3-d126749d94c5",
   "metadata": {},
   "outputs": [],
   "source": []
  }
 ],
 "metadata": {
  "kernelspec": {
   "display_name": "Python 3 (ipykernel)",
   "language": "python",
   "name": "python3"
  },
  "language_info": {
   "codemirror_mode": {
    "name": "ipython",
    "version": 3
   },
   "file_extension": ".py",
   "mimetype": "text/x-python",
   "name": "python",
   "nbconvert_exporter": "python",
   "pygments_lexer": "ipython3",
   "version": "3.11.9"
  }
 },
 "nbformat": 4,
 "nbformat_minor": 5
}
