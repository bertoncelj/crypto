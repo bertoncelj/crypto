{
 "cells": [
  {
   "cell_type": "code",
   "execution_count": 2,
   "id": "1a438471-0260-47a6-a7d7-216c1e3e7416",
   "metadata": {},
   "outputs": [
    {
     "name": "stdout",
     "output_type": "stream",
     "text": [
      "Requirement already satisfied: pycryptodome in c:\\users\\t_bertoncelj\\appdata\\local\\programs\\python\\python310\\lib\\site-packages (3.20.0)\n"
     ]
    }
   ],
   "source": [
    "!pip install pycryptodome"
   ]
  },
  {
   "cell_type": "code",
   "execution_count": 3,
   "id": "98319597-8e19-4af8-bac0-a382f67f24e8",
   "metadata": {},
   "outputs": [],
   "source": [
    "from Crypto.Cipher import AES\n",
    "from Crypto.Random import get_random_bytes"
   ]
  },
  {
   "cell_type": "code",
   "execution_count": 8,
   "id": "9598b4e0-ac31-476a-b51b-801681d7c0e6",
   "metadata": {},
   "outputs": [
    {
     "name": "stdout",
     "output_type": "stream",
     "text": [
      "Key b'<\\x0fal\\xfb\\xc7l\\x02ZD\\xa2\\xd7\\xe6\\x0fV\\xcc'\n",
      "Cipher b'\\xecq\\xea\\xc4\\xdf\\x8bl\\xeb\\x87\\xfc\\x86'\n"
     ]
    }
   ],
   "source": [
    "data = b'secret data'\n",
    "\n",
    "key = get_random_bytes(16)\n",
    "cipher = AES.new(key, AES.MODE_EAX)\n",
    "ciphertext, tag = cipher.encrypt_and_digest(data)\n",
    "nonce = cipher.nonce\n",
    "print(\"Key\", key)\n",
    "print(\"Cipher\", ciphertext)"
   ]
  },
  {
   "cell_type": "code",
   "execution_count": 10,
   "id": "71cbc98b-b3c5-4473-8abe-4b7cb780d354",
   "metadata": {},
   "outputs": [
    {
     "name": "stdout",
     "output_type": "stream",
     "text": [
      "b'secret data'\n"
     ]
    }
   ],
   "source": [
    "cipher = AES.new(key, AES.MODE_EAX, nonce)\n",
    "data = cipher.decrypt_and_verify(ciphertext, tag)\n",
    "print(data)"
   ]
  },
  {
   "cell_type": "code",
   "execution_count": null,
   "id": "479af358-5869-477f-b5cb-3d7ee21b7944",
   "metadata": {},
   "outputs": [],
   "source": []
  }
 ],
 "metadata": {
  "kernelspec": {
   "display_name": "Python 3 (ipykernel)",
   "language": "python",
   "name": "python3"
  },
  "language_info": {
   "codemirror_mode": {
    "name": "ipython",
    "version": 3
   },
   "file_extension": ".py",
   "mimetype": "text/x-python",
   "name": "python",
   "nbconvert_exporter": "python",
   "pygments_lexer": "ipython3",
   "version": "3.10.11"
  }
 },
 "nbformat": 4,
 "nbformat_minor": 5
}
