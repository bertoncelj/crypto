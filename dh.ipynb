{
 "cells": [
  {
   "cell_type": "code",
   "execution_count": 19,
   "id": "4333f24f-56cc-4bd2-9ae4-71ef39fe9317",
   "metadata": {},
   "outputs": [
    {
     "name": "stdout",
     "output_type": "stream",
     "text": [
      "Requirement already satisfied: pyDHE in c:\\users\\t_bertoncelj\\appdata\\local\\programs\\python\\python310\\lib\\site-packages (1.0.0)\n",
      "Requirement already satisfied: Crypto in c:\\users\\t_bertoncelj\\appdata\\local\\programs\\python\\python310\\lib\\site-packages (from pyDHE) (1.4.1)\n",
      "Requirement already satisfied: Naked in c:\\users\\t_bertoncelj\\appdata\\local\\programs\\python\\python310\\lib\\site-packages (from Crypto->pyDHE) (0.1.32)\n",
      "Requirement already satisfied: shellescape in c:\\users\\t_bertoncelj\\appdata\\local\\programs\\python\\python310\\lib\\site-packages (from Crypto->pyDHE) (3.8.1)\n",
      "Requirement already satisfied: requests in c:\\users\\t_bertoncelj\\appdata\\local\\programs\\python\\python310\\lib\\site-packages (from Naked->Crypto->pyDHE) (2.31.0)\n",
      "Requirement already satisfied: pyyaml in c:\\users\\t_bertoncelj\\appdata\\local\\programs\\python\\python310\\lib\\site-packages (from Naked->Crypto->pyDHE) (6.0.1)\n",
      "Requirement already satisfied: charset-normalizer<4,>=2 in c:\\users\\t_bertoncelj\\appdata\\local\\programs\\python\\python310\\lib\\site-packages (from requests->Naked->Crypto->pyDHE) (3.3.2)\n",
      "Requirement already satisfied: idna<4,>=2.5 in c:\\users\\t_bertoncelj\\appdata\\local\\programs\\python\\python310\\lib\\site-packages (from requests->Naked->Crypto->pyDHE) (3.7)\n",
      "Requirement already satisfied: urllib3<3,>=1.21.1 in c:\\users\\t_bertoncelj\\appdata\\local\\programs\\python\\python310\\lib\\site-packages (from requests->Naked->Crypto->pyDHE) (2.2.1)\n",
      "Requirement already satisfied: certifi>=2017.4.17 in c:\\users\\t_bertoncelj\\appdata\\local\\programs\\python\\python310\\lib\\site-packages (from requests->Naked->Crypto->pyDHE) (2024.2.2)\n"
     ]
    }
   ],
   "source": [
    "!pip install pyDHE\n",
    "import pyDHE"
   ]
  },
  {
   "cell_type": "code",
   "execution_count": 20,
   "id": "663b2556-46d0-40ce-8a83-d1069c488db9",
   "metadata": {},
   "outputs": [],
   "source": [
    "# Generate Alice Public key"
   ]
  },
  {
   "cell_type": "code",
   "execution_count": 28,
   "id": "b45d74a2-00c0-40b5-bfd1-08e8bd84a544",
   "metadata": {},
   "outputs": [
    {
     "name": "stdout",
     "output_type": "stream",
     "text": [
      "Alice public key: \n",
      " 709910625353013090888151476163780686416241530177534011376361068632713852275071165970129367759274115563604265994076761971151419085697950299690192507531365294327406096731520561079300401295497257351966796715953945951027756213403088488640413835632151001846304351128101885554086625278140538379214826076532673355223925185318153554749510253394053902749194302308285039239246312442189569041516966506119376948798901493062671881311383165536709866503938012639322479997055510258554753684250718352242125636037483471173443920121911716145556853031810142772091271644813233834148646462075552384582219939164052344795466727437475259561984985756978320498788884086174646771362977445811510642527289354072378307803343826903993163530597134250272829510554246008532044612942327860785581207835687879155931154704490088270958964687748271813672535929629408627637569332052925891416495022108157765661180186651260042733155160840760601214249265996246343594232671613435104932892472744290073087657127959416700840206522629174343487354413086035669291682929476299587939226324324567939215302784726533491060272296947176111664251582219381410546117857212649680853392181807722649219693741526985496232663587289962945029074757593630996435337729291911425776111259820697692710793418 <pyDHE.DHE object at 0x0000018E7FAD4970>\n"
     ]
    }
   ],
   "source": [
    "# 14: 2048 bits\n",
    "# 15: 3072 bits\n",
    "# 16: 4096 bits\n",
    "# 17: 6144 bits\n",
    "# 18: 8192 bits\n",
    "alice = pyDHE.new(group=16)\n",
    "alicePubKey = alice.getPublicKey()\n",
    "print(\"Alice public key: \\n\", alicePubKey, alice)"
   ]
  },
  {
   "cell_type": "code",
   "execution_count": 30,
   "id": "28187c16-e585-4401-a53e-bd6e9f8ef426",
   "metadata": {},
   "outputs": [
    {
     "name": "stdout",
     "output_type": "stream",
     "text": [
      "Bob public key: 0xf3b0ebe58779662aead70136e15b3e38dcfcba3a79a08ea62129d8e21d0a20db8b09a535d8ea1f8c02742f713e2bee67d62c68a72b7be6e928cfb371f8281d5c14f4361f3d9b605c2f576754e4a2866c3eebaa099309d8a9f047536e43c8f2384ffdd744a67c0e6db012c1ad0a646147ee91079a618e5b2533aa5d1e1943897fc35c21d0e3b5bef52cd7d3ea09362d914635d61f370be14b7119ef89976d43097014285de2155647df848507b0316c334ab77b2681347816aa5c5b1f56990a4f0e4da04fc21d4c74a7e5f54a4eff0b4d86224efcdffb6f9566434fe03c0c32ab515c6276d0d1b26bad64ddffdc62d5641c6c256013a364f6ef9be54bd28947610912f1a34f2ed207c0848bc03d5ec1b1fe60f4c39f44a4f29bee8006dca3389f240127c7e7a5e3d6d0ecb6ddae42125f0299da5d8ba6190bc836980fc1af757582cdf9f29d8729205fe4ec779da0ebb998f34341876456c497689ebb33414c7053415fdc10c3f3caae96ead0b8e93959b6dba552258d2e347f8983e44e95be7d275ab8c7182d397a315614bcfe601906161a6c3b143a4df6ece6e291a55ef428617a793105c792ed911d141c3d4baa8b76f225f936f4f6eefe43cd20f83e4ed6a660c3c5653f3b84b729d44dd2f1416d173b0e8618fc1002a3277cc5ad7116a8497f54320ccf3a38c641b9f4668914b4757b36897c3a8f9c74fac7e8bcc40b\n"
     ]
    }
   ],
   "source": [
    "bob = pyDHE.new(group=16)\n",
    "bobPubKey = bob.getPublicKey()\n",
    "print(\"Bob public key:\", hex(bobPubKey))"
   ]
  },
  {
   "cell_type": "code",
   "execution_count": 31,
   "id": "e495be19-c624-4460-9472-d07370ae5256",
   "metadata": {},
   "outputs": [
    {
     "name": "stdout",
     "output_type": "stream",
     "text": [
      "Now exchange the public keys (e.g. through Internet)\n",
      "Alice shared key: 0x90f38af54b6c08b28cd992de146f2104871c949a954057d620123755f284b273a8118d0003f32efb995f38ce369b38ceb1f9bcdcacc813dd17db0ce703fea3fd9458d394a5dc7f7ccaa8c7e4e95747b65f73e4deec509e2ef33378702a6dfdd703fc543eb72ea2ba0db539ceb1c92b4dc9a49e0b8b85aa0f50a843c0bf937c1e721ab1583d4fa43e8b6a3fbe02ac176358d431ec3e612262ffb067a768d3264968601ad32b0427d52778fd584dc48bce132d712450c128a71671620b668072374e92e9dc1236334f0ad7b9799014d77ef6ccee5c60184ece2208a297115dafe4fc0ab7673c115a9f21b50d6e7725dfcbea80953ed60b29397b285995e610e6751e2454687096675be273dda86bf141e4cc99f31c12bb2e22d68bcf5434f437de949455686d46a62431dc1325aaa52bbb50d3534a48aa1c9902045bbfa1e01602f0a792b6e11da101b12f31b4fae221500d280bf66775bbd51845e2149b6611da65bcca4e069d0225f0386b426c01ebf2c7fd55a3bd0994dcad5bfe50a29cb0aafd7480d0a556f011d02842672958c7a9d17ccd07ade97813075fb0dfb218f5a7d0d129cde19ecff883909bc19216fb04d368aba2356f50cdf37a62fe64c247f5eba077fb1903fa6409ba807183b6cdcbfab75a1344839101bfd5ca72db08bb1d5830e224cc3f9dd2d40be4631e96206b67773b09c4ed34474d07afa5e95ed463\n"
     ]
    }
   ],
   "source": [
    "print(\"Now exchange the public keys (e.g. through Internet)\")\n",
    "\n",
    "aliceSharedKey = alice.update(bobPubKey)\n",
    "print(\"Alice shared key:\", hex(aliceSharedKey))"
   ]
  },
  {
   "cell_type": "code",
   "execution_count": 32,
   "id": "4595f8ff-3de2-4c28-81d9-a081e1c60021",
   "metadata": {},
   "outputs": [
    {
     "name": "stdout",
     "output_type": "stream",
     "text": [
      "Bob shared key: 0x90f38af54b6c08b28cd992de146f2104871c949a954057d620123755f284b273a8118d0003f32efb995f38ce369b38ceb1f9bcdcacc813dd17db0ce703fea3fd9458d394a5dc7f7ccaa8c7e4e95747b65f73e4deec509e2ef33378702a6dfdd703fc543eb72ea2ba0db539ceb1c92b4dc9a49e0b8b85aa0f50a843c0bf937c1e721ab1583d4fa43e8b6a3fbe02ac176358d431ec3e612262ffb067a768d3264968601ad32b0427d52778fd584dc48bce132d712450c128a71671620b668072374e92e9dc1236334f0ad7b9799014d77ef6ccee5c60184ece2208a297115dafe4fc0ab7673c115a9f21b50d6e7725dfcbea80953ed60b29397b285995e610e6751e2454687096675be273dda86bf141e4cc99f31c12bb2e22d68bcf5434f437de949455686d46a62431dc1325aaa52bbb50d3534a48aa1c9902045bbfa1e01602f0a792b6e11da101b12f31b4fae221500d280bf66775bbd51845e2149b6611da65bcca4e069d0225f0386b426c01ebf2c7fd55a3bd0994dcad5bfe50a29cb0aafd7480d0a556f011d02842672958c7a9d17ccd07ade97813075fb0dfb218f5a7d0d129cde19ecff883909bc19216fb04d368aba2356f50cdf37a62fe64c247f5eba077fb1903fa6409ba807183b6cdcbfab75a1344839101bfd5ca72db08bb1d5830e224cc3f9dd2d40be4631e96206b67773b09c4ed34474d07afa5e95ed463\n",
      "Equal shared keys: True\n"
     ]
    }
   ],
   "source": [
    "bobSharedKey = bob.update(alicePubKey)\n",
    "print(\"Bob shared key:\", hex(bobSharedKey))\n",
    "\n",
    "print(\"Equal shared keys:\", aliceSharedKey == bobSharedKey)"
   ]
  },
  {
   "cell_type": "code",
   "execution_count": null,
   "id": "dabc2dc3-5461-4915-a706-9b09775e50dc",
   "metadata": {},
   "outputs": [],
   "source": []
  }
 ],
 "metadata": {
  "kernelspec": {
   "display_name": "Python 3 (ipykernel)",
   "language": "python",
   "name": "python3"
  },
  "language_info": {
   "codemirror_mode": {
    "name": "ipython",
    "version": 3
   },
   "file_extension": ".py",
   "mimetype": "text/x-python",
   "name": "python",
   "nbconvert_exporter": "python",
   "pygments_lexer": "ipython3",
   "version": "3.10.11"
  }
 },
 "nbformat": 4,
 "nbformat_minor": 5
}
