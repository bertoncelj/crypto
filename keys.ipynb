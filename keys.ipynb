{
 "cells": [
  {
   "cell_type": "markdown",
   "id": "e08d1c50-968a-47b6-9d8c-35f2e67ca2ff",
   "metadata": {},
   "source": [
    "![TABLE](pictures/ecc_rsa_symm.png)"
   ]
  },
  {
   "cell_type": "code",
   "execution_count": null,
   "id": "4fa98a40-9e7b-4e2f-b8c5-69e9115fde8b",
   "metadata": {},
   "outputs": [],
   "source": []
  }
 ],
 "metadata": {
  "kernelspec": {
   "display_name": "Python 3 (ipykernel)",
   "language": "python",
   "name": "python3"
  },
  "language_info": {
   "codemirror_mode": {
    "name": "ipython",
    "version": 3
   },
   "file_extension": ".py",
   "mimetype": "text/x-python",
   "name": "python",
   "nbconvert_exporter": "python",
   "pygments_lexer": "ipython3",
   "version": "3.10.11"
  }
 },
 "nbformat": 4,
 "nbformat_minor": 5
}
