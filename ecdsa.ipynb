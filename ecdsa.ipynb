{
 "cells": [
  {
   "cell_type": "code",
   "execution_count": 23,
   "id": "cfbfe19d-b4be-4326-ae85-c9a64afce3f6",
   "metadata": {},
   "outputs": [
    {
     "name": "stdout",
     "output_type": "stream",
     "text": [
      "Requirement already satisfied: pycoin in c:\\users\\t_bertoncelj\\appdata\\local\\programs\\python\\python310\\lib\\site-packages (0.92.20230326)\n"
     ]
    }
   ],
   "source": [
    "!pip install pycoin"
   ]
  },
  {
   "cell_type": "code",
   "execution_count": 24,
   "id": "30963838-79bc-4ecc-b0ab-30b976ffb1bd",
   "metadata": {},
   "outputs": [],
   "source": [
    "from pycoin.ecdsa.secp256k1 import secp256k1_generator\n",
    "from pycoin.satoshi import der\n",
    "import hashlib, secrets"
   ]
  },
  {
   "cell_type": "code",
   "execution_count": 25,
   "id": "90c8d4cf-f1e9-4fa7-9084-68f04ba3a3ed",
   "metadata": {},
   "outputs": [],
   "source": [
    "def sha3_256Hash(msg):\n",
    "    hashBytes = hashlib.sha3_256(msg.encode(\"utf8\")).digest()\n",
    "    return int.from_bytes(hashBytes, byteorder=\"big\")\n",
    "\n",
    "def signECDSAsecp256k1(msg, privKey):\n",
    "    msgHash = sha3_256Hash(msg)\n",
    "    signature = secp256k1_generator.sign(privKey, msgHash)\n",
    "    return der.sigencode_der(signature[0], signature[1])\n",
    "\n",
    "def verifyECDSAsecp256k1(msg, signature, pubKey):\n",
    "    msgHash = sha3_256Hash(msg)\n",
    "    r, s = der.sigdecode_der(signature)\n",
    "    valid = secp256k1_generator.verify(pubKey, msgHash, (r, s))\n",
    "    return valid\n"
   ]
  },
  {
   "cell_type": "code",
   "execution_count": 32,
   "id": "793e2c2f-3fa3-4760-a614-8e0fec33987b",
   "metadata": {},
   "outputs": [
    {
     "name": "stdout",
     "output_type": "stream",
     "text": [
      "Message: Tine ti poslija 10 <3\n",
      "Private key: 67446254743033141283124871875225352568561396203182687730966223773612807553264\n",
      "Signature: r=0xe2586804867cb1a154410dc5ce3f4a01bc41b95c529f3214ccd9b0dec61d4f4e, s=0xa9c86e78954b2b563de2f9c7e673c323e1a64c6f9246ad954f815b68ffc6c558\n"
     ]
    }
   ],
   "source": [
    "\n",
    "# ECDSA sign message\n",
    "msg = \"Tine ti poslija 10 <3\"\n",
    "privKey = secrets.randbelow(secp256k1_generator.order())\n",
    "pubKey = secp256k1_generator * privKey\n",
    "signature = signECDSAsecp256k1(msg, privKey)\n",
    "print(\"Message:\", msg)\n",
    "print(\"Private key:\", privKey)\n",
    "r, s = der.sigdecode_der(signature)\n",
    "print(\"Signature: r=\" + hex(r) + \", s=\" + hex(s))\n",
    "\n"
   ]
  },
  {
   "cell_type": "markdown",
   "id": "fb43f887-160d-4299-81eb-31f888117db4",
   "metadata": {},
   "source": [
    "Signature into [DER format](https://learnmeabitcoin.com/technical/keys/signature/#der)"
   ]
  },
  {
   "cell_type": "code",
   "execution_count": 33,
   "id": "94b071da-a2fc-45ff-aa21-ca24fc974766",
   "metadata": {},
   "outputs": [
    {
     "name": "stdout",
     "output_type": "stream",
     "text": [
      "\n",
      "Message: Tine ti poslija 10 <3\n",
      "Public key: (0xce469d6c24c0709c782213fa40b5c7b8eda182298d2df7613ff70988570cc570, 0x494376e43c00ba882f832df11ab4c8e1b3c36cd6df91b19475607a9d532396b3)\n",
      "Signature valid? True\n"
     ]
    }
   ],
   "source": [
    "# ECDSA verify signature \n",
    "pubKey_coords = (pubKey[0], pubKey[1])\n",
    "valid = verifyECDSAsecp256k1(msg, signature, pubKey)\n",
    "print(\"\\nMessage:\", msg)\n",
    "print(\"Public key: (\" + hex(pubKey_coords[0]) + \", \" + hex(pubKey_coords[1]) + \")\")\n",
    "print(\"Signature valid?\", valid)"
   ]
  },
  {
   "cell_type": "code",
   "execution_count": 30,
   "id": "e36a94fc-eded-4b90-be1a-b73b7d32f683",
   "metadata": {},
   "outputs": [
    {
     "name": "stdout",
     "output_type": "stream",
     "text": [
      "\n",
      "Message: Tampered message\n",
      "Signature (tampered msg) valid? False\n"
     ]
    }
   ],
   "source": [
    "# ECDSA verify tampered signature \n",
    "msg = \"Tampered message\"\n",
    "valid = verifyECDSAsecp256k1(msg, signature, pubKey)\n",
    "print(\"\\nMessage:\", msg)\n",
    "print(\"Signature (tampered msg) valid?\", valid)"
   ]
  },
  {
   "cell_type": "markdown",
   "id": "d1cf7316-0d87-48ce-bbe5-cd16168dfbf3",
   "metadata": {},
   "source": [
    "# ECDHA\n",
    "\n",
    "a = 25\n",
    "b = 24\n",
    "p = 97\n",
    "\n",
    "[echd by hand](https://andrea.corbellini.name/ecc/interactive/modk-mul.html)"
   ]
  },
  {
   "cell_type": "markdown",
   "id": "42cb639d-246f-4449-b0de-cea6fee0a8a4",
   "metadata": {},
   "source": [
    "# Elliptic Curves \n",
    "The mathematical backbone of ECDSA\n",
    "## y² = x³ + ax + b\n",
    "![Point Multiplication](pictures/elliptic-curve.png)"
   ]
  },
  {
   "cell_type": "markdown",
   "id": "2c7e59e9-5b25-4206-a279-164aedf94b17",
   "metadata": {},
   "source": [
    "In summary, **public keys** and **signatures** are just points on an **elliptic curve**. If both of these points are created from the same **private key** (a large number), there will be a geometric connection between them that proves that the person who created the **signature** also created (or \"owns\") the **public key** too.\n",
    "\n",
    "![Point Multiplication](pictures/point-multiply.gif)\n",
    "\n",
    "[Eliliptic curves](https://learnmeabitcoin.com/technical/cryptography/elliptic-curve/)"
   ]
  },
  {
   "cell_type": "markdown",
   "id": "d834939c-cce2-4cdc-a14d-35e7c82adc3e",
   "metadata": {},
   "source": [
    "## Elliptic Curve Parameters\n",
    "## y² = x³ + ax + b\n",
    "\n",
    "a = 0\n",
    "\n",
    "b = 7\n",
    "\n",
    "#### prime field\n",
    "\n",
    "    p = 2 ** 256 - 2 ** 32 - 2 ** 9 - 2 ** 8 - 2 ** 7 - 2 ** 6 - 2 ** 4 - 1\n",
    "\n",
    "#### number of points on the curve we can hit (\"order\")\n",
    "\n",
    "    n = 115792089237316195423570985008687907852837564279074904382605163141518161494337\n",
    "\n",
    "#### generator point (the starting point on the curve used for all calculations)\n",
    "\n",
    "    G = {\n",
    "      x: 55066263022277343669578718895168534326250603453777594175500187360389116729240,\n",
    "      y: 32670510020758816978083085130507043184471273380659243275938904335757337482424,\n",
    "    }"
   ]
  },
  {
   "cell_type": "markdown",
   "id": "fc8c0421-679c-4f21-b592-8b6ea0272e0a",
   "metadata": {},
   "source": [
    "**Secp256k1** is just the name for one of the specific elliptic curves used in cryptography. It's short for:\n",
    "\n",
    "- **sec** = Standard for Efficient Cryptography — A consortium that develops commercial standards for cryptography.\n",
    "- **p** = Prime — A prime number is used to create the finite field.\n",
    "- **256** = 256 bits — Size of the prime field used.\n",
    "- **k** = Koblitz — Specific type of curve.\n",
    "- **1** = First curve in this category.\n"
   ]
  },
  {
   "cell_type": "markdown",
   "id": "94fa78fc-0e4b-4b54-ba76-c5ce0f5d9844",
   "metadata": {},
   "source": [
    "![Point Multiplication](pictures/curves.png)"
   ]
  },
  {
   "cell_type": "markdown",
   "id": "4e2a7508-a028-4535-b5f3-5fe101f5b07e",
   "metadata": {},
   "source": [
    "For this, we have to restrict ourselves to numbers in a fixed range, like in RSA. Rather than allow any value for the points on the curve, we restrict ourselves to whole numbers in a fixed range. When computing the formula for the elliptic curve (y2 = x3 + ax + b), we use the same trick of rolling over numbers when we hit the maximum. If we pick the maximum to be a prime number, the elliptic curve is called a prime curve and has excellent cryptographic properties.\n",
    "\n",
    "Here's an example of a curve (y2 = x3 - x + 1) plotted for all numbers:\n",
    "![An elliptic curve over real numbers.\n",
    "](pictures/sage-elliptic-curve-real-numbers.png)"
   ]
  },
  {
   "cell_type": "markdown",
   "id": "3f574992-46a8-409e-8734-3080939da342",
   "metadata": {},
   "source": [
    "However, the actual curve used in ECDSA or ECDHE looks more like a scatter plot of points like this:\n",
    "![real_ec](pictures/sage-elliptic-curve-finite-field-47.png)\n"
   ]
  },
  {
   "cell_type": "markdown",
   "id": "391ed1ee-4acd-4483-806a-2ab5606e00cd",
   "metadata": {},
   "source": [
    "This is due to the fact that the curve used in EC is over a **finite field** of whole numbers (i.e., using mod p to restrict numbers to within a certain range), and this breaks the continuous curve you're able to get when you use real numbers.\n",
    "\n",
    "However, even though these plots look wildly different, the mathematical operations you can perform on both of these curves still work in the same way.\n",
    "\n",
    "Of course, the **secp256k1** curve has a very large value for **p**, so it more closely resembles the graph below, except imagine there are about as many points on it as there are atoms in the universe:\n",
    "\n",
    "![real_ec](pictures/sage-elliptic-curve-finite-field-2503.png)"
   ]
  },
  {
   "cell_type": "markdown",
   "id": "4e086935-8ad3-473d-bc6d-51b6c5d2a2f9",
   "metadata": {},
   "source": [
    "With this new curve representation, you can take messages and represent them as points on the curve. You could imagine taking a message and setting it as the x coordinate, and solving for y to get a point on the curve. It is slightly more complicated than this in practice, but this is the general idea.\n",
    "\n",
    "![real_ec](pictures/image01.gif)"
   ]
  },
  {
   "cell_type": "markdown",
   "id": "53c38382-cd3f-486c-ac46-3f3e8e4fcd3b",
   "metadata": {},
   "source": [
    "### The Downside\n",
    "\n",
    "It is not all roses in the world of elliptic curves; there have been some questions and uncertainties that have held them back from being fully embraced by everyone in the industry.\n",
    "\n",
    "One point that has been in the news recently is the Dual Elliptic Curve Deterministic Random Bit Generator [Dual_EC_DRBG](https://blog.cloudflare.com/how-the-nsa-may-have-put-a-backdoor-in-rsas-cryptography-a-technical-primer). This is a random number generator standardized by the **National Institute of Standards and Technology (NIST)**, and promoted by the NSA. **Dual_EC_DRBG** generates random-looking numbers using the mathematics of elliptic curves. The algorithm itself involves taking points on a curve and repeatedly performing an elliptic curve \"dot\" operation. After publication, it was reported that it could have been designed with a backdoor, meaning that the sequence of numbers returned could be fully predicted by someone with the right secret number. Recently, the company RSA recalled several of their products because this random number generator was set as the default PRNG for their line of security products. Whether or not this random number generator was written with a backdoor does not change the strength of the elliptic curve technology itself, but it does raise questions about the standardization process for elliptic curves. As we've written about before, it's also part of the reason that attention should be spent ensuring that your system is using adequately random numbers. In a future blog post, we will go into how a backdoor could be snuck into the specification of this algorithm.\n",
    "\n",
    "Some of the more skeptical cryptographers in the world now have a general distrust for NIST itself and the standards it has published that were supported by the NSA. Almost all of the widely implemented elliptic curves fall into this category. There are no known attacks on these special curves, chosen for their efficient arithmetic; however, bad curves do exist, and some feel it is better to be safe than sorry. There has been progress in developing curves with efficient arithmetic outside of **NIST**, including **curve 25519** created by Daniel Bernstein (djb) and more recently computed curves by Paulo Baretto and collaborators, though widespread adoption of these curves are several years away. Until these non-traditional curves are implemented by browsers, they won't be able to be used for securing cryptographic transport on the web.\n",
    "\n",
    "Another uncertainty about elliptic curve cryptography is related to patents. There are over **130 patents** that cover specific uses of elliptic curves owned by BlackBerry (through their 2009 acquisition of Certicom). Many of these patents were licensed for use by private organizations and even the NSA. This has given some developers pause over whether their implementations of ECC infringe upon this patent portfolio. In 2007, Certicom filed suit against Sony for some uses of elliptic curves; however, that lawsuit was dismissed in 2009. There are now many implementations of elliptic curve cryptography that are thought to not infringe upon these patents and are in wide use.\n",
    "\n",
    "The ECDSA digital signature has a drawback compared to RSA in that it requires a good source of entropy. Without proper randomness, the private key could be revealed. A flaw in the random number generator on Android allowed hackers to find the ECDSA private key used to protect the bitcoin wallets of several people in early 2013. Sony's Playstation implementation of ECDSA had a similar vulnerability. A good source of random numbers is needed on the machine making the signatures. Dual_EC_DRBG is not recommended.\n"
   ]
  },
  {
   "cell_type": "markdown",
   "id": "80f3b56f-7875-44fd-8ab4-cb920ca148f7",
   "metadata": {},
   "source": [
    "## Hidden Threats of NSA\n",
    "\n",
    "### Algorithms and Mathematics vs. People\n",
    "\n",
    "We've discussed algorithms and mathematics, but now let's address the human element, which complicates things.\n",
    "\n",
    "Previously, we mentioned weak elliptic curves and added random seeds to domain parameters for security. Standard NIST curves appear verifiably random. However, the origin of these random seeds is unknown, raising suspicion about their integrity.\n",
    "\n",
    "### Concerns about NIST Curves\n",
    "\n",
    "Random seeds for NIST curves lack justification, unlike those for MD5, Blowfish, and RC5. This uncertainty opens the possibility that NIST might have standardized weak elliptic curves, similar to their standardization of a vulnerable random number generator.\n",
    "\n",
    "### Security Implications\n",
    "\n",
    "\"Verifiably random\" doesn't equate to \"secure.\" If algorithms are compromised, no key length can protect us. RSA, which doesn't require special domain parameters, might be a safer alternative if we can't trust authorities.\n",
    "\n",
    "### Example in Use\n",
    "\n",
    "TLS connections, like those to [Google](https://google.com), often use NIST curves, such as prime256v1 (secp256p1).\n"
   ]
  },
  {
   "cell_type": "code",
   "execution_count": null,
   "id": "ce5b6bf0-3cef-43ea-90d7-a661beded69a",
   "metadata": {},
   "outputs": [],
   "source": []
  }
 ],
 "metadata": {
  "kernelspec": {
   "display_name": "Python 3 (ipykernel)",
   "language": "python",
   "name": "python3"
  },
  "language_info": {
   "codemirror_mode": {
    "name": "ipython",
    "version": 3
   },
   "file_extension": ".py",
   "mimetype": "text/x-python",
   "name": "python",
   "nbconvert_exporter": "python",
   "pygments_lexer": "ipython3",
   "version": "3.10.11"
  }
 },
 "nbformat": 4,
 "nbformat_minor": 5
}
